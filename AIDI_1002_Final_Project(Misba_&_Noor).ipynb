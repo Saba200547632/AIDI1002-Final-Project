{
  "nbformat": 4,
  "nbformat_minor": 0,
  "metadata": {
    "colab": {
      "provenance": []
    },
    "kernelspec": {
      "name": "python3",
      "display_name": "Python 3"
    },
    "language_info": {
      "name": "python"
    }
  },
  "cells": [
    {
      "cell_type": "markdown",
      "source": [
        "# **AIDI 1002 Final Project - YOLO-FaceV2**\n",
        "\n",
        "### **Paper:YOLO-FaceV2: A Scale and Occlusion Aware Face Detector (2022)**\n",
        "\n",
        "####GitHub: https://github.com/Krasjet-Yu/YOLO-FaceV2\n",
        "\n"
      ],
      "metadata": {
        "id": "_CVhDipYCLvK"
      }
    },
    {
      "cell_type": "markdown",
      "source": [
        "**STEP 1: Set Up YOLOv5 Repo**"
      ],
      "metadata": {
        "id": "4k-xgBlw7U1o"
      }
    },
    {
      "cell_type": "code",
      "execution_count": 42,
      "metadata": {
        "colab": {
          "base_uri": "https://localhost:8080/",
          "height": 0
        },
        "id": "Dy_UEkoTAq4x",
        "outputId": "7c58e15d-241c-49d5-ecd9-046b9fe8dc15"
      },
      "outputs": [
        {
          "output_type": "stream",
          "name": "stdout",
          "text": [
            "Cloning into 'yolov5'...\n",
            "remote: Enumerating objects: 17372, done.\u001b[K\n",
            "remote: Counting objects: 100% (59/59), done.\u001b[K\n",
            "remote: Compressing objects: 100% (39/39), done.\u001b[K\n",
            "remote: Total 17372 (delta 42), reused 20 (delta 20), pack-reused 17313 (from 3)\u001b[K\n",
            "Receiving objects: 100% (17372/17372), 16.26 MiB | 13.17 MiB/s, done.\n",
            "Resolving deltas: 100% (11907/11907), done.\n",
            "/content/yolov5/yolov5/yolov5/yolov5\n",
            "Requirement already satisfied: gitpython>=3.1.30 in /usr/local/lib/python3.11/dist-packages (from -r requirements.txt (line 5)) (3.1.44)\n",
            "Requirement already satisfied: matplotlib>=3.3 in /usr/local/lib/python3.11/dist-packages (from -r requirements.txt (line 6)) (3.10.0)\n",
            "Requirement already satisfied: numpy>=1.23.5 in /usr/local/lib/python3.11/dist-packages (from -r requirements.txt (line 7)) (2.0.2)\n",
            "Requirement already satisfied: opencv-python>=4.1.1 in /usr/local/lib/python3.11/dist-packages (from -r requirements.txt (line 8)) (4.11.0.86)\n",
            "Requirement already satisfied: pillow>=10.3.0 in /usr/local/lib/python3.11/dist-packages (from -r requirements.txt (line 9)) (11.1.0)\n",
            "Requirement already satisfied: psutil in /usr/local/lib/python3.11/dist-packages (from -r requirements.txt (line 10)) (5.9.5)\n",
            "Requirement already satisfied: PyYAML>=5.3.1 in /usr/local/lib/python3.11/dist-packages (from -r requirements.txt (line 11)) (6.0.2)\n",
            "Requirement already satisfied: requests>=2.32.2 in /usr/local/lib/python3.11/dist-packages (from -r requirements.txt (line 12)) (2.32.3)\n",
            "Requirement already satisfied: scipy>=1.4.1 in /usr/local/lib/python3.11/dist-packages (from -r requirements.txt (line 13)) (1.14.1)\n",
            "Requirement already satisfied: thop>=0.1.1 in /usr/local/lib/python3.11/dist-packages (from -r requirements.txt (line 14)) (0.1.1.post2209072238)\n",
            "Requirement already satisfied: torch>=1.8.0 in /usr/local/lib/python3.11/dist-packages (from -r requirements.txt (line 15)) (2.6.0+cu124)\n",
            "Requirement already satisfied: torchvision>=0.9.0 in /usr/local/lib/python3.11/dist-packages (from -r requirements.txt (line 16)) (0.21.0+cu124)\n",
            "Requirement already satisfied: tqdm>=4.66.3 in /usr/local/lib/python3.11/dist-packages (from -r requirements.txt (line 17)) (4.67.1)\n",
            "Requirement already satisfied: ultralytics>=8.2.34 in /usr/local/lib/python3.11/dist-packages (from -r requirements.txt (line 18)) (8.3.107)\n",
            "Requirement already satisfied: pandas>=1.1.4 in /usr/local/lib/python3.11/dist-packages (from -r requirements.txt (line 27)) (2.2.2)\n",
            "Requirement already satisfied: seaborn>=0.11.0 in /usr/local/lib/python3.11/dist-packages (from -r requirements.txt (line 28)) (0.13.2)\n",
            "Requirement already satisfied: setuptools>=70.0.0 in /usr/local/lib/python3.11/dist-packages (from -r requirements.txt (line 42)) (75.2.0)\n",
            "Requirement already satisfied: gitdb<5,>=4.0.1 in /usr/local/lib/python3.11/dist-packages (from gitpython>=3.1.30->-r requirements.txt (line 5)) (4.0.12)\n",
            "Requirement already satisfied: contourpy>=1.0.1 in /usr/local/lib/python3.11/dist-packages (from matplotlib>=3.3->-r requirements.txt (line 6)) (1.3.1)\n",
            "Requirement already satisfied: cycler>=0.10 in /usr/local/lib/python3.11/dist-packages (from matplotlib>=3.3->-r requirements.txt (line 6)) (0.12.1)\n",
            "Requirement already satisfied: fonttools>=4.22.0 in /usr/local/lib/python3.11/dist-packages (from matplotlib>=3.3->-r requirements.txt (line 6)) (4.57.0)\n",
            "Requirement already satisfied: kiwisolver>=1.3.1 in /usr/local/lib/python3.11/dist-packages (from matplotlib>=3.3->-r requirements.txt (line 6)) (1.4.8)\n",
            "Requirement already satisfied: packaging>=20.0 in /usr/local/lib/python3.11/dist-packages (from matplotlib>=3.3->-r requirements.txt (line 6)) (24.2)\n",
            "Requirement already satisfied: pyparsing>=2.3.1 in /usr/local/lib/python3.11/dist-packages (from matplotlib>=3.3->-r requirements.txt (line 6)) (3.2.3)\n",
            "Requirement already satisfied: python-dateutil>=2.7 in /usr/local/lib/python3.11/dist-packages (from matplotlib>=3.3->-r requirements.txt (line 6)) (2.8.2)\n",
            "Requirement already satisfied: charset-normalizer<4,>=2 in /usr/local/lib/python3.11/dist-packages (from requests>=2.32.2->-r requirements.txt (line 12)) (3.4.1)\n",
            "Requirement already satisfied: idna<4,>=2.5 in /usr/local/lib/python3.11/dist-packages (from requests>=2.32.2->-r requirements.txt (line 12)) (3.10)\n",
            "Requirement already satisfied: urllib3<3,>=1.21.1 in /usr/local/lib/python3.11/dist-packages (from requests>=2.32.2->-r requirements.txt (line 12)) (2.3.0)\n",
            "Requirement already satisfied: certifi>=2017.4.17 in /usr/local/lib/python3.11/dist-packages (from requests>=2.32.2->-r requirements.txt (line 12)) (2025.1.31)\n",
            "Requirement already satisfied: filelock in /usr/local/lib/python3.11/dist-packages (from torch>=1.8.0->-r requirements.txt (line 15)) (3.18.0)\n",
            "Requirement already satisfied: typing-extensions>=4.10.0 in /usr/local/lib/python3.11/dist-packages (from torch>=1.8.0->-r requirements.txt (line 15)) (4.13.1)\n",
            "Requirement already satisfied: networkx in /usr/local/lib/python3.11/dist-packages (from torch>=1.8.0->-r requirements.txt (line 15)) (3.4.2)\n",
            "Requirement already satisfied: jinja2 in /usr/local/lib/python3.11/dist-packages (from torch>=1.8.0->-r requirements.txt (line 15)) (3.1.6)\n",
            "Requirement already satisfied: fsspec in /usr/local/lib/python3.11/dist-packages (from torch>=1.8.0->-r requirements.txt (line 15)) (2025.3.2)\n",
            "Requirement already satisfied: nvidia-cuda-nvrtc-cu12==12.4.127 in /usr/local/lib/python3.11/dist-packages (from torch>=1.8.0->-r requirements.txt (line 15)) (12.4.127)\n",
            "Requirement already satisfied: nvidia-cuda-runtime-cu12==12.4.127 in /usr/local/lib/python3.11/dist-packages (from torch>=1.8.0->-r requirements.txt (line 15)) (12.4.127)\n",
            "Requirement already satisfied: nvidia-cuda-cupti-cu12==12.4.127 in /usr/local/lib/python3.11/dist-packages (from torch>=1.8.0->-r requirements.txt (line 15)) (12.4.127)\n",
            "Requirement already satisfied: nvidia-cudnn-cu12==9.1.0.70 in /usr/local/lib/python3.11/dist-packages (from torch>=1.8.0->-r requirements.txt (line 15)) (9.1.0.70)\n",
            "Requirement already satisfied: nvidia-cublas-cu12==12.4.5.8 in /usr/local/lib/python3.11/dist-packages (from torch>=1.8.0->-r requirements.txt (line 15)) (12.4.5.8)\n",
            "Requirement already satisfied: nvidia-cufft-cu12==11.2.1.3 in /usr/local/lib/python3.11/dist-packages (from torch>=1.8.0->-r requirements.txt (line 15)) (11.2.1.3)\n",
            "Requirement already satisfied: nvidia-curand-cu12==10.3.5.147 in /usr/local/lib/python3.11/dist-packages (from torch>=1.8.0->-r requirements.txt (line 15)) (10.3.5.147)\n",
            "Requirement already satisfied: nvidia-cusolver-cu12==11.6.1.9 in /usr/local/lib/python3.11/dist-packages (from torch>=1.8.0->-r requirements.txt (line 15)) (11.6.1.9)\n",
            "Requirement already satisfied: nvidia-cusparse-cu12==12.3.1.170 in /usr/local/lib/python3.11/dist-packages (from torch>=1.8.0->-r requirements.txt (line 15)) (12.3.1.170)\n",
            "Requirement already satisfied: nvidia-cusparselt-cu12==0.6.2 in /usr/local/lib/python3.11/dist-packages (from torch>=1.8.0->-r requirements.txt (line 15)) (0.6.2)\n",
            "Requirement already satisfied: nvidia-nccl-cu12==2.21.5 in /usr/local/lib/python3.11/dist-packages (from torch>=1.8.0->-r requirements.txt (line 15)) (2.21.5)\n",
            "Requirement already satisfied: nvidia-nvtx-cu12==12.4.127 in /usr/local/lib/python3.11/dist-packages (from torch>=1.8.0->-r requirements.txt (line 15)) (12.4.127)\n",
            "Requirement already satisfied: nvidia-nvjitlink-cu12==12.4.127 in /usr/local/lib/python3.11/dist-packages (from torch>=1.8.0->-r requirements.txt (line 15)) (12.4.127)\n",
            "Requirement already satisfied: triton==3.2.0 in /usr/local/lib/python3.11/dist-packages (from torch>=1.8.0->-r requirements.txt (line 15)) (3.2.0)\n",
            "Requirement already satisfied: sympy==1.13.1 in /usr/local/lib/python3.11/dist-packages (from torch>=1.8.0->-r requirements.txt (line 15)) (1.13.1)\n",
            "Requirement already satisfied: mpmath<1.4,>=1.1.0 in /usr/local/lib/python3.11/dist-packages (from sympy==1.13.1->torch>=1.8.0->-r requirements.txt (line 15)) (1.3.0)\n",
            "Requirement already satisfied: py-cpuinfo in /usr/local/lib/python3.11/dist-packages (from ultralytics>=8.2.34->-r requirements.txt (line 18)) (9.0.0)\n",
            "Requirement already satisfied: ultralytics-thop>=2.0.0 in /usr/local/lib/python3.11/dist-packages (from ultralytics>=8.2.34->-r requirements.txt (line 18)) (2.0.14)\n",
            "Requirement already satisfied: pytz>=2020.1 in /usr/local/lib/python3.11/dist-packages (from pandas>=1.1.4->-r requirements.txt (line 27)) (2025.2)\n",
            "Requirement already satisfied: tzdata>=2022.7 in /usr/local/lib/python3.11/dist-packages (from pandas>=1.1.4->-r requirements.txt (line 27)) (2025.2)\n",
            "Requirement already satisfied: smmap<6,>=3.0.1 in /usr/local/lib/python3.11/dist-packages (from gitdb<5,>=4.0.1->gitpython>=3.1.30->-r requirements.txt (line 5)) (5.0.2)\n",
            "Requirement already satisfied: six>=1.5 in /usr/local/lib/python3.11/dist-packages (from python-dateutil>=2.7->matplotlib>=3.3->-r requirements.txt (line 6)) (1.17.0)\n",
            "Requirement already satisfied: MarkupSafe>=2.0 in /usr/local/lib/python3.11/dist-packages (from jinja2->torch>=1.8.0->-r requirements.txt (line 15)) (3.0.2)\n",
            "Requirement already satisfied: opencv-python in /usr/local/lib/python3.11/dist-packages (4.11.0.86)\n",
            "Requirement already satisfied: numpy>=1.21.2 in /usr/local/lib/python3.11/dist-packages (from opencv-python) (2.0.2)\n"
          ]
        }
      ],
      "source": [
        "# Clone the YOLOv5 GitHub repository from Ultralytics (this is used as the base for YOLO-FaceV2)\n",
        "!git clone https://github.com/ultralytics/yolov5.git\n",
        "\n",
        "# Change working directory to the yolov5 folder\n",
        "%cd yolov5\n",
        "\n",
        "# Install all required dependencies for YOLOv5 from the requirements file\n",
        "!pip install -r requirements.txt\n",
        "\n",
        "# Install OpenCV manually in case it's not handled in requirements.txt (used for image preprocessing)\n",
        "!pip install opencv-python\n"
      ]
    },
    {
      "cell_type": "markdown",
      "source": [
        "**STEP 2: Extract WIDER FACE Data**"
      ],
      "metadata": {
        "id": "KGczhRYT7cn-"
      }
    },
    {
      "cell_type": "code",
      "source": [
        "import zipfile\n",
        "import os\n",
        "\n",
        "# Create directories to extract data into\n",
        "os.makedirs(\"/content/WIDER_train\", exist_ok=True)\n",
        "os.makedirs(\"/content/WIDER_val\", exist_ok=True)\n",
        "os.makedirs(\"/content/wider_face_split\", exist_ok=True)\n",
        "\n",
        "# Unzip training images\n",
        "with zipfile.ZipFile(\"/content/WIDER_train.zip\", 'r') as zip_ref:\n",
        "    zip_ref.extractall(\"/content/WIDER_train\")\n",
        "\n",
        "# Unzip validation images\n",
        "with zipfile.ZipFile(\"/content/WIDER_val.zip\", 'r') as zip_ref:\n",
        "    zip_ref.extractall(\"/content/WIDER_val\")\n",
        "\n",
        "# Unzip bounding box annotations (face coordinates)\n",
        "with zipfile.ZipFile(\"/content/wider_face_split.zip\", 'r') as zip_ref:\n",
        "    zip_ref.extractall(\"/content/wider_face_split\")\n",
        "\n",
        "print(\"All files unzipped successfully.\")\n"
      ],
      "metadata": {
        "id": "TOK-t68zA4vd",
        "colab": {
          "base_uri": "https://localhost:8080/",
          "height": 0
        },
        "outputId": "08c7bd6f-eaa0-495b-b4e8-b553d5fb9c26"
      },
      "execution_count": 43,
      "outputs": [
        {
          "output_type": "stream",
          "name": "stdout",
          "text": [
            "All files unzipped.\n"
          ]
        }
      ]
    },
    {
      "cell_type": "markdown",
      "source": [
        "**STEP 3: Convert Annotations to YOLO Format (Train + Val)**"
      ],
      "metadata": {
        "id": "Di_wu2cZ7nBL"
      }
    },
    {
      "cell_type": "code",
      "source": [
        "# Import necessary libraries\n",
        "import os\n",
        "import cv2  # For reading image dimensions\n",
        "from pathlib import Path  # For easier and safer file path handling\n",
        "from tqdm import tqdm  # For displaying progress bars during conversion\n",
        "\n",
        "# Define the conversion function\n",
        "def convert_wider_to_yolo(split_file, img_root, label_root):\n",
        "    \"\"\"\n",
        "    Converts WIDER FACE bounding box annotations to YOLO format.\n",
        "\n",
        "    Parameters:\n",
        "    - split_file: Path to the WIDER FACE annotation txt file (train or val).\n",
        "    - img_root: Root directory containing the face images.\n",
        "    - label_root: Directory where YOLO-formatted label files will be saved.\n",
        "    \"\"\"\n",
        "\n",
        "    # Read all lines from the annotation file\n",
        "    with open(split_file, 'r') as f:\n",
        "        lines = f.readlines()\n",
        "\n",
        "    i = 0  # Line pointer\n",
        "    pbar = tqdm(total=len(lines), desc=f\"Converting: {Path(split_file).stem}\")  # Progress bar\n",
        "\n",
        "    # Loop over all lines in the annotation file\n",
        "    while i < len(lines):\n",
        "        filename = lines[i].strip()  # First line is image filename\n",
        "        i += 1\n",
        "        pbar.update(1)\n",
        "\n",
        "        if i >= len(lines): break  # Avoid index error if file ends unexpectedly\n",
        "\n",
        "        # Second line is the number of faces (bounding boxes) in this image\n",
        "        try:\n",
        "            face_count = int(lines[i].strip())\n",
        "        except ValueError:\n",
        "            continue  # Skip if line is not an integer\n",
        "\n",
        "        i += 1\n",
        "        faces = []\n",
        "\n",
        "        # Loop over each face's bounding box info\n",
        "        for _ in range(face_count):\n",
        "            if i >= len(lines): break\n",
        "            parts = list(map(float, lines[i].strip().split()))\n",
        "            if len(parts) < 4:\n",
        "                i += 1\n",
        "                continue  # Skip malformed lines\n",
        "\n",
        "            x, y, w, h = parts[:4]  # Extract top-left corner (x, y) and width/height\n",
        "            i += 1\n",
        "\n",
        "            # Construct full path to image\n",
        "            image_path = Path(img_root) / filename\n",
        "            if not image_path.exists():\n",
        "                continue  # Skip if image file does not exist\n",
        "\n",
        "            # Read image to get dimensions\n",
        "            img = cv2.imread(str(image_path))\n",
        "            h_img, w_img = img.shape[:2]\n",
        "\n",
        "            # Convert to YOLO format: (class x_center y_center width height) — all normalized\n",
        "            x_center = (x + w / 2) / w_img\n",
        "            y_center = (y + h / 2) / h_img\n",
        "            w_norm = w / w_img\n",
        "            h_norm = h / h_img\n",
        "\n",
        "            # Class 0 refers to 'face'\n",
        "            faces.append(f\"0 {x_center:.6f} {y_center:.6f} {w_norm:.6f} {h_norm:.6f}\")\n",
        "\n",
        "        # Create label subdirectory if it doesn't exist\n",
        "        label_subdir = Path(label_root) / Path(filename).parent\n",
        "        os.makedirs(label_subdir, exist_ok=True)\n",
        "\n",
        "        # Create YOLO label file with the same base name as image\n",
        "        label_file = label_subdir / f\"{Path(filename).stem}.txt\"\n",
        "        with open(label_file, 'w') as f:\n",
        "            f.write(\"\\n\".join(faces))  # Write all bounding boxes for this image\n",
        "\n",
        "    pbar.close()  # Close the progress bar\n"
      ],
      "metadata": {
        "id": "ZOs0-eB3A7Ql"
      },
      "execution_count": 78,
      "outputs": []
    },
    {
      "cell_type": "markdown",
      "source": [
        "**Step 4: Convert and Prepare YOLO-Formatted Labels for Training**"
      ],
      "metadata": {
        "id": "ZHqZFPtw_FXZ"
      }
    },
    {
      "cell_type": "code",
      "source": [
        "# Clean up any existing labels folders to avoid conflicts or duplicates\n",
        "!rm -rf /content/WIDER_train/labels\n",
        "!rm -rf /content/WIDER_val/labels\n",
        "\n",
        "# Convert the training annotations to YOLO format\n",
        "# This reads the WIDER FACE training annotations and creates YOLO-style .txt label files\n",
        "convert_wider_to_yolo(\n",
        "    \"/content/wider_face_split/wider_face_split/wider_face_train_bbx_gt.txt\",  # Source annotation file\n",
        "    \"/content/WIDER_train/images\",                                             # Directory of training images\n",
        "    \"/content/WIDER_train/labels\"                                              # Output directory for YOLO labels\n",
        ")\n",
        "\n",
        "# Convert the validation annotations to YOLO format\n",
        "# The same conversion process is repeated for the validation data\n",
        "convert_wider_to_yolo(\n",
        "    \"/content/wider_face_split/wider_face_split/wider_face_val_bbx_gt.txt\",    # Source annotation file\n",
        "    \"/content/WIDER_val/images\",                                               # Directory of validation images\n",
        "    \"/content/WIDER_val/labels\"                                                # Output directory for YOLO labels\n",
        ")\n"
      ],
      "metadata": {
        "colab": {
          "base_uri": "https://localhost:8080/",
          "height": 0
        },
        "id": "JjdCm5IgouzU",
        "outputId": "da750b80-0ebf-4231-b4e0-4bea85671b0f"
      },
      "execution_count": 72,
      "outputs": [
        {
          "output_type": "stream",
          "name": "stderr",
          "text": [
            "Converting: wider_face_train_bbx_gt:   7%|▋         | 12884/185184 [16:48<3:44:46, 12.78it/s]\n",
            "Converting: wider_face_val_bbx_gt:   7%|▋         | 3226/46160 [04:17<57:09, 12.52it/s]\n"
          ]
        }
      ]
    },
    {
      "cell_type": "markdown",
      "source": [
        "**Step 5: Navigate to YOLOv5 Working Directory**"
      ],
      "metadata": {
        "id": "7Bu5f-EJAsrF"
      }
    },
    {
      "cell_type": "code",
      "source": [
        "# Change the current working directory to the root of the cloned YOLOv5 repository\n",
        "# This is important to ensure that all subsequent training and validation commands run from the correct location\n",
        "%cd /content/yolov5\n"
      ],
      "metadata": {
        "colab": {
          "base_uri": "https://localhost:8080/",
          "height": 0
        },
        "id": "ajRFIZw5l-TC",
        "outputId": "c6776c55-6a6f-4f30-e95d-1fe6046271f8"
      },
      "execution_count": 73,
      "outputs": [
        {
          "output_type": "stream",
          "name": "stdout",
          "text": [
            "/content/yolov5\n"
          ]
        }
      ]
    },
    {
      "cell_type": "markdown",
      "source": [
        "**Step 7: Create Custom Dataset Configuration File for YOLOv5**"
      ],
      "metadata": {
        "id": "3ny0vCmQA1LP"
      }
    },
    {
      "cell_type": "code",
      "source": [
        "# Define a YAML configuration for training on a subset of the WIDER FACE dataset\n",
        "subset_yaml = \"\"\"\n",
        "train: /content/WIDER_train_subset/images  # Path to training images\n",
        "val: /content/WIDER_val_subset/images      # Path to validation images\n",
        "\n",
        "nc: 1                                      # Number of classes (only 'face')\n",
        "names: ['face']                            # Name of the single class\n",
        "\"\"\"\n",
        "\n",
        "# Write the configuration to a file that YOLOv5 will read during training/validation\n",
        "with open(\"/content/yolov5/data/widerface_subset.yaml\", \"w\") as f:\n",
        "    f.write(subset_yaml)\n"
      ],
      "metadata": {
        "id": "c3hIHUp9Ym-H"
      },
      "execution_count": 79,
      "outputs": []
    },
    {
      "cell_type": "markdown",
      "source": [
        "**Step 8: Define Custom YOLOv5s Model Architecture for Face Detection**"
      ],
      "metadata": {
        "id": "L6ZxdseqA-Z2"
      }
    },
    {
      "cell_type": "code",
      "source": [
        "# Define a YOLOv5s model configuration for single-class (face) detection\n",
        "# This is a modified version of the original yolov5s.yaml to suit YOLO-FaceV2\n",
        "\n",
        "face_cfg = \"\"\"\n",
        "# YOLOv5s model with 1 class (face)\n",
        "# Adjusted from ultralytics yolov5s.yaml\n",
        "\n",
        "nc: 1  # number of classes\n",
        "depth_multiple: 0.33  # Controls depth of the network (smaller = faster, less accurate)\n",
        "width_multiple: 0.50  # Controls width (number of channels)\n",
        "\n",
        "# Predefined anchor boxes per scale level (used in detection heads)\n",
        "anchors:\n",
        "  - [10,13, 16,30, 33,23]        # Small objects - feature map P3/8\n",
        "  - [30,61, 62,45, 59,119]       # Medium objects - feature map P4/16\n",
        "  - [116,90, 156,198, 373,326]   # Large objects - feature map P5/32\n",
        "\n",
        "# Backbone network: extracts features from input images\n",
        "backbone:\n",
        "  [[-1, 1, Conv, [64, 6, 2, 2]],\n",
        "   [-1, 1, Conv, [128, 3, 2]],\n",
        "   [-1, 3, BottleneckCSP, [128]],\n",
        "   [-1, 1, Conv, [256, 3, 2]],\n",
        "   [-1, 9, BottleneckCSP, [256]],\n",
        "   [-1, 1, Conv, [512, 3, 2]],\n",
        "   [-1, 9, BottleneckCSP, [512]],\n",
        "   [-1, 1, Conv, [1024, 3, 2]],\n",
        "   [-1, 1, SPP, [1024, [5, 9, 13]]],  # Spatial pyramid pooling\n",
        "   [-1, 3, BottleneckCSP, [1024]],\n",
        "  ]\n",
        "\n",
        "# Head: builds feature pyramid and performs detection\n",
        "head:\n",
        "  [[-1, 1, Conv, [512, 1, 1]],\n",
        "   [-1, 1, nn.Upsample, [None, 2, 'nearest']],\n",
        "   [[-1, 6], 1, Concat, [1]],\n",
        "   [-1, 3, BottleneckCSP, [512]],\n",
        "   [-1, 1, Conv, [256, 1, 1]],\n",
        "   [-1, 1, nn.Upsample, [None, 2, 'nearest']],\n",
        "   [[-1, 4], 1, Concat, [1]],\n",
        "   [-1, 3, BottleneckCSP, [256]],\n",
        "   [-1, 1, Conv, [256, 3, 2]],\n",
        "   [[-1, 14], 1, Concat, [1]],\n",
        "   [-1, 3, BottleneckCSP, [512]],\n",
        "   [-1, 1, Conv, [512, 3, 2]],\n",
        "   [[-1, 10], 1, Concat, [1]],\n",
        "   [-1, 3, BottleneckCSP, [1024]],\n",
        "   [[17, 20, 23], 1, Detect, [nc, anchors]],  # Final detection layer\n",
        "  ]\n",
        "\"\"\"\n",
        "\n",
        "# Save the custom face detector model configuration to the YOLOv5 models directory\n",
        "with open(\"/content/yolov5/models/yolov5s-face.yaml\", \"w\") as f:\n",
        "    f.write(face_cfg)\n"
      ],
      "metadata": {
        "id": "l5yGUFVMky18"
      },
      "execution_count": 75,
      "outputs": []
    },
    {
      "cell_type": "markdown",
      "source": [
        "**Step 9: Fix Dataset Directory Structure (If Nested Incorrectly)**"
      ],
      "metadata": {
        "id": "W3RHrawEBHcC"
      }
    },
    {
      "cell_type": "code",
      "source": [
        "# Move validation images to the correct location if nested incorrectly\n",
        "# Sometimes WIDER_val/images ends up inside another WIDER_val folder after extraction\n",
        "!mv /content/WIDER_val/WIDER_val/images /content/WIDER_val/images\n",
        "\n",
        "# Move training images to correct directory if they are nested too deep\n",
        "!mv /content/WIDER_train/WIDER_train/images /content/WIDER_train/images\n",
        "\n",
        "# Move training labels into the expected labels directory (if they were saved elsewhere)\n",
        "!mv /content/labels_train /content/WIDER_train/labels\n",
        "\n",
        "# Move validation labels to the proper validation directory\n",
        "!mv /content/labels_val /content/WIDER_val/labels\n"
      ],
      "metadata": {
        "colab": {
          "base_uri": "https://localhost:8080/",
          "height": 0
        },
        "id": "_8Mk0ooDnB6d",
        "outputId": "917bcc2a-274b-4eaa-c7e8-d1ef066156fa"
      },
      "execution_count": 76,
      "outputs": [
        {
          "output_type": "stream",
          "name": "stdout",
          "text": [
            "mv: cannot stat '/content/WIDER_val/WIDER_val/images': No such file or directory\n",
            "mv: cannot stat '/content/WIDER_train/WIDER_train/images': No such file or directory\n",
            "mv: cannot stat '/content/labels_train': No such file or directory\n",
            "mv: cannot stat '/content/labels_val': No such file or directory\n"
          ]
        }
      ]
    },
    {
      "cell_type": "markdown",
      "source": [
        "**Step 10: Verify Location of All \"labels\" Directories**"
      ],
      "metadata": {
        "id": "jimycImrBOcU"
      }
    },
    {
      "cell_type": "code",
      "source": [
        "# Search the /content directory and list all folders that start with \"labels\"\n",
        "# This helps confirm where label files were generated and if they are placed correctly\n",
        "!find /content -type d -name \"labels*\"\n"
      ],
      "metadata": {
        "colab": {
          "base_uri": "https://localhost:8080/",
          "height": 0
        },
        "id": "oQ0Hkg-AoGFU",
        "outputId": "5966ee5d-f4fe-4a51-c773-70dbe69c4a3b"
      },
      "execution_count": 66,
      "outputs": [
        {
          "output_type": "stream",
          "name": "stdout",
          "text": [
            "/content/WIDER_val/labels\n",
            "/content/WIDER_train/labels\n"
          ]
        }
      ]
    },
    {
      "cell_type": "markdown",
      "source": [
        "**Step 11: Preview Validation Image Folder Structure**"
      ],
      "metadata": {
        "id": "RKvtYWLVBUr7"
      }
    },
    {
      "cell_type": "code",
      "source": [
        "# List the first few subdirectories inside the validation image folder\n",
        "!ls /content/WIDER_val/images | head\n"
      ],
      "metadata": {
        "colab": {
          "base_uri": "https://localhost:8080/",
          "height": 0
        },
        "id": "ODgNjxJAmuAk",
        "outputId": "cc9c6c02-b8da-4e40-b77c-cfd9840ecddb"
      },
      "execution_count": 60,
      "outputs": [
        {
          "output_type": "stream",
          "name": "stdout",
          "text": [
            "0--Parade\n",
            "10--People_Marching\n",
            "11--Meeting\n",
            "12--Group\n",
            "13--Interview\n",
            "14--Traffic\n",
            "15--Stock_Market\n",
            "16--Award_Ceremony\n",
            "17--Ceremony\n",
            "18--Concerts\n"
          ]
        }
      ]
    },
    {
      "cell_type": "markdown",
      "source": [
        "**Step 12: Train YOLO-FaceV2 on the WIDER FACE Subset**"
      ],
      "metadata": {
        "id": "LF0F6ywDBf0W"
      }
    },
    {
      "cell_type": "code",
      "source": [
        "# Disable Weights & Biases logging (to avoid warnings or needing an account)\n",
        "import os\n",
        "os.environ[\"WANDB_MODE\"] = \"disabled\"\n",
        "\n",
        "# Start training the YOLOv5s-based face detector using custom settings\n",
        "!python train.py --img 640 \\                     # Input image size (640x640)\n",
        "--batch 16 \\                                     # Batch size per training step\n",
        "--epochs 10 \\                                    # Number of training epochs\n",
        "--data data/widerface_subset.yaml \\              # Dataset config file (subset with 1 class)\n",
        "--weights '' \\                                   # Start training from scratch (no pre-trained weights)\n",
        "--cfg models/yolov5s-face.yaml \\                 # Custom model architecture with 1 class (face)\n",
        "--name yolo-fast-subset                          # Name for the training run (saved under runs/train/)\n"
      ],
      "metadata": {
        "colab": {
          "base_uri": "https://localhost:8080/",
          "height": 0
        },
        "id": "Aqw95A9xk1L3",
        "outputId": "428a21ce-7d7e-4a2e-a892-83e122d84bad"
      },
      "execution_count": 80,
      "outputs": [
        {
          "output_type": "stream",
          "name": "stdout",
          "text": [
            "\u001b[34m\u001b[1mwandb\u001b[0m: WARNING ⚠️ wandb is deprecated and will be removed in a future release. See supported integrations at https://github.com/ultralytics/yolov5#integrations.\n",
            "2025-04-13 01:46:16.993674: E external/local_xla/xla/stream_executor/cuda/cuda_fft.cc:477] Unable to register cuFFT factory: Attempting to register factory for plugin cuFFT when one has already been registered\n",
            "WARNING: All log messages before absl::InitializeLog() is called are written to STDERR\n",
            "E0000 00:00:1744508777.045787   39578 cuda_dnn.cc:8310] Unable to register cuDNN factory: Attempting to register factory for plugin cuDNN when one has already been registered\n",
            "E0000 00:00:1744508777.060863   39578 cuda_blas.cc:1418] Unable to register cuBLAS factory: Attempting to register factory for plugin cuBLAS when one has already been registered\n",
            "\u001b[34m\u001b[1mtrain: \u001b[0mweights=, cfg=models/yolov5s-face.yaml, data=data/widerface_subset.yaml, hyp=data/hyps/hyp.scratch-low.yaml, epochs=10, batch_size=16, imgsz=640, rect=False, resume=False, nosave=False, noval=False, noautoanchor=False, noplots=False, evolve=None, evolve_population=data/hyps, resume_evolve=None, bucket=, cache=None, image_weights=False, device=, multi_scale=False, single_cls=False, optimizer=SGD, sync_bn=False, workers=8, project=runs/train, name=yolo-fast-subset, exist_ok=False, quad=False, cos_lr=False, label_smoothing=0.0, patience=100, freeze=[0], save_period=-1, seed=0, local_rank=-1, entity=None, upload_dataset=False, bbox_interval=-1, artifact_alias=latest, ndjson_console=False, ndjson_file=False\n",
            "\u001b[34m\u001b[1mgithub: \u001b[0mup to date with https://github.com/ultralytics/yolov5 ✅\n",
            "YOLOv5 🚀 v7.0-411-gf4d8a84c Python-3.11.12 torch-2.6.0+cu124 CPU\n",
            "\n",
            "\u001b[34m\u001b[1mhyperparameters: \u001b[0mlr0=0.01, lrf=0.01, momentum=0.937, weight_decay=0.0005, warmup_epochs=3.0, warmup_momentum=0.8, warmup_bias_lr=0.1, box=0.05, cls=0.5, cls_pw=1.0, obj=1.0, obj_pw=1.0, iou_t=0.2, anchor_t=4.0, fl_gamma=0.0, hsv_h=0.015, hsv_s=0.7, hsv_v=0.4, degrees=0.0, translate=0.1, scale=0.5, shear=0.0, perspective=0.0, flipud=0.0, fliplr=0.5, mosaic=1.0, mixup=0.0, copy_paste=0.0\n",
            "\u001b[34m\u001b[1mComet: \u001b[0mrun 'pip install comet_ml' to automatically track and visualize YOLOv5 🚀 runs in Comet\n",
            "\u001b[34m\u001b[1mTensorBoard: \u001b[0mStart with 'tensorboard --logdir runs/train', view at http://localhost:6006/\n",
            "\n",
            "                 from  n    params  module                                  arguments                     \n",
            "  0                -1  1      3520  models.common.Conv                      [3, 32, 6, 2, 2]              \n",
            "  1                -1  1     18560  models.common.Conv                      [32, 64, 3, 2]                \n",
            "  2                -1  1     19904  models.common.BottleneckCSP             [64, 64, 1]                   \n",
            "  3                -1  1     73984  models.common.Conv                      [64, 128, 3, 2]               \n",
            "  4                -1  3    161152  models.common.BottleneckCSP             [128, 128, 3]                 \n",
            "  5                -1  1    295424  models.common.Conv                      [128, 256, 3, 2]              \n",
            "  6                -1  3    641792  models.common.BottleneckCSP             [256, 256, 3]                 \n",
            "  7                -1  1   1180672  models.common.Conv                      [256, 512, 3, 2]              \n",
            "  8                -1  1    656896  models.common.SPP                       [512, 512, [5, 9, 13]]        \n",
            "  9                -1  1   1248768  models.common.BottleneckCSP             [512, 512, 1]                 \n",
            " 10                -1  1    131584  models.common.Conv                      [512, 256, 1, 1]              \n",
            " 11                -1  1         0  torch.nn.modules.upsampling.Upsample    [None, 2, 'nearest']          \n",
            " 12           [-1, 6]  1         0  models.common.Concat                    [1]                           \n",
            " 13                -1  1    378624  models.common.BottleneckCSP             [512, 256, 1]                 \n",
            " 14                -1  1     33024  models.common.Conv                      [256, 128, 1, 1]              \n",
            " 15                -1  1         0  torch.nn.modules.upsampling.Upsample    [None, 2, 'nearest']          \n",
            " 16           [-1, 4]  1         0  models.common.Concat                    [1]                           \n",
            " 17                -1  1     95104  models.common.BottleneckCSP             [256, 128, 1]                 \n",
            " 18                -1  1    147712  models.common.Conv                      [128, 128, 3, 2]              \n",
            " 19          [-1, 14]  1         0  models.common.Concat                    [1]                           \n",
            " 20                -1  1    313088  models.common.BottleneckCSP             [256, 256, 1]                 \n",
            " 21                -1  1    590336  models.common.Conv                      [256, 256, 3, 2]              \n",
            " 22          [-1, 10]  1         0  models.common.Concat                    [1]                           \n",
            " 23                -1  1   1248768  models.common.BottleneckCSP             [512, 512, 1]                 \n",
            " 24      [17, 20, 23]  1     16182  models.yolo.Detect                      [1, [[10, 13, 16, 30, 33, 23], [30, 61, 62, 45, 59, 119], [116, 90, 156, 198, 373, 326]], [128, 256, 512]]\n",
            "YOLOv5s-face summary: 232 layers, 7255094 parameters, 7255094 gradients, 16.9 GFLOPs\n",
            "\n",
            "\u001b[34m\u001b[1moptimizer:\u001b[0m SGD(lr=0.01) with parameter groups 59 weight(decay=0.0), 70 weight(decay=0.0005), 62 bias\n",
            "\u001b[34m\u001b[1malbumentations: \u001b[0m1 validation error for InitSchema\n",
            "size\n",
            "  Field required [type=missing, input_value={'scale': (0.8, 1.0), 'ra...'mask_interpolation': 0}, input_type=dict]\n",
            "    For further information visit https://errors.pydantic.dev/2.11/v/missing\n",
            "\u001b[34m\u001b[1mtrain: \u001b[0mScanning /content/WIDER_train_subset/labels/0--Parade... 1000 images, 0 backgrounds, 0 corrupt: 100% 1000/1000 [00:01<00:00, 987.70it/s]\n",
            "\u001b[34m\u001b[1mtrain: \u001b[0mNew cache created: /content/WIDER_train_subset/labels/0--Parade.cache\n",
            "\u001b[34m\u001b[1mval: \u001b[0mScanning /content/WIDER_val_subset/labels/0--Parade... 300 images, 0 backgrounds, 0 corrupt: 100% 300/300 [00:01<00:00, 272.77it/s]\n",
            "\u001b[34m\u001b[1mval: \u001b[0mNew cache created: /content/WIDER_val_subset/labels/0--Parade.cache\n",
            "\n",
            "\u001b[34m\u001b[1mAutoAnchor: \u001b[0m3.21 anchors/target, 0.986 Best Possible Recall (BPR). Current anchors are a good fit to dataset ✅\n",
            "Plotting labels to runs/train/yolo-fast-subset/labels.jpg... \n",
            "/content/yolov5/train.py:355: FutureWarning: `torch.cuda.amp.GradScaler(args...)` is deprecated. Please use `torch.amp.GradScaler('cuda', args...)` instead.\n",
            "  scaler = torch.cuda.amp.GradScaler(enabled=amp)\n",
            "Image sizes 640 train, 640 val\n",
            "Using 2 dataloader workers\n",
            "Logging results to \u001b[1mruns/train/yolo-fast-subset\u001b[0m\n",
            "Starting training for 10 epochs...\n",
            "\n",
            "      Epoch    GPU_mem   box_loss   obj_loss   cls_loss  Instances       Size\n",
            "  0% 0/63 [00:00<?, ?it/s]/content/yolov5/train.py:412: FutureWarning: `torch.cuda.amp.autocast(args...)` is deprecated. Please use `torch.amp.autocast('cuda', args...)` instead.\n",
            "  with torch.cuda.amp.autocast(amp):\n",
            "        0/9         0G     0.1188     0.0726          0        275        640:   2% 1/63 [00:44<46:10, 44.68s/it]/content/yolov5/train.py:412: FutureWarning: `torch.cuda.amp.autocast(args...)` is deprecated. Please use `torch.amp.autocast('cuda', args...)` instead.\n",
            "  with torch.cuda.amp.autocast(amp):\n",
            "        0/9         0G     0.1183    0.06871          0        326        640:   3% 2/63 [01:22<41:26, 40.76s/it]/content/yolov5/train.py:412: FutureWarning: `torch.cuda.amp.autocast(args...)` is deprecated. Please use `torch.amp.autocast('cuda', args...)` instead.\n",
            "  with torch.cuda.amp.autocast(amp):\n",
            "        0/9         0G     0.1182    0.07534          0        344        640:   5% 3/63 [01:56<37:23, 37.39s/it]/content/yolov5/train.py:412: FutureWarning: `torch.cuda.amp.autocast(args...)` is deprecated. Please use `torch.amp.autocast('cuda', args...)` instead.\n",
            "  with torch.cuda.amp.autocast(amp):\n",
            "        0/9         0G     0.1173    0.07818          0        235        640:   6% 4/63 [02:27<34:30, 35.10s/it]/content/yolov5/train.py:412: FutureWarning: `torch.cuda.amp.autocast(args...)` is deprecated. Please use `torch.amp.autocast('cuda', args...)` instead.\n",
            "  with torch.cuda.amp.autocast(amp):\n",
            "        0/9         0G     0.1178    0.07927          0        618        640:   8% 5/63 [02:58<32:16, 33.39s/it]/content/yolov5/train.py:412: FutureWarning: `torch.cuda.amp.autocast(args...)` is deprecated. Please use `torch.amp.autocast('cuda', args...)` instead.\n",
            "  with torch.cuda.amp.autocast(amp):\n",
            "        0/9         0G     0.1176     0.0778          0        439        640:  10% 6/63 [03:29<31:04, 32.70s/it]/content/yolov5/train.py:412: FutureWarning: `torch.cuda.amp.autocast(args...)` is deprecated. Please use `torch.amp.autocast('cuda', args...)` instead.\n",
            "  with torch.cuda.amp.autocast(amp):\n",
            "        0/9         0G     0.1176    0.07348          0        137        640:  11% 7/63 [03:59<29:45, 31.88s/it]/content/yolov5/train.py:412: FutureWarning: `torch.cuda.amp.autocast(args...)` is deprecated. Please use `torch.amp.autocast('cuda', args...)` instead.\n",
            "  with torch.cuda.amp.autocast(amp):\n",
            "        0/9         0G     0.1181     0.0712          0        450        640:  13% 8/63 [04:28<28:27, 31.05s/it]/content/yolov5/train.py:412: FutureWarning: `torch.cuda.amp.autocast(args...)` is deprecated. Please use `torch.amp.autocast('cuda', args...)` instead.\n",
            "  with torch.cuda.amp.autocast(amp):\n",
            "        0/9         0G     0.1182    0.07025          0        445        640:  14% 9/63 [04:59<27:44, 30.83s/it]/content/yolov5/train.py:412: FutureWarning: `torch.cuda.amp.autocast(args...)` is deprecated. Please use `torch.amp.autocast('cuda', args...)` instead.\n",
            "  with torch.cuda.amp.autocast(amp):\n",
            "        0/9         0G     0.1179    0.07012          0        255        640:  16% 10/63 [05:28<26:51, 30.40s/it]/content/yolov5/train.py:412: FutureWarning: `torch.cuda.amp.autocast(args...)` is deprecated. Please use `torch.amp.autocast('cuda', args...)` instead.\n",
            "  with torch.cuda.amp.autocast(amp):\n",
            "        0/9         0G     0.1174    0.07086          0        310        640:  17% 11/63 [05:58<26:05, 30.10s/it]/content/yolov5/train.py:412: FutureWarning: `torch.cuda.amp.autocast(args...)` is deprecated. Please use `torch.amp.autocast('cuda', args...)` instead.\n",
            "  with torch.cuda.amp.autocast(amp):\n",
            "        0/9         0G     0.1171    0.07027          0        174        640:  19% 12/63 [06:27<25:24, 29.89s/it]/content/yolov5/train.py:412: FutureWarning: `torch.cuda.amp.autocast(args...)` is deprecated. Please use `torch.amp.autocast('cuda', args...)` instead.\n",
            "  with torch.cuda.amp.autocast(amp):\n",
            "        0/9         0G     0.1172    0.07173          0        489        640:  21% 13/63 [06:56<24:35, 29.52s/it]/content/yolov5/train.py:412: FutureWarning: `torch.cuda.amp.autocast(args...)` is deprecated. Please use `torch.amp.autocast('cuda', args...)` instead.\n",
            "  with torch.cuda.amp.autocast(amp):\n",
            "        0/9         0G      0.117    0.07025          0        175        640:  22% 14/63 [07:24<23:50, 29.20s/it]/content/yolov5/train.py:412: FutureWarning: `torch.cuda.amp.autocast(args...)` is deprecated. Please use `torch.amp.autocast('cuda', args...)` instead.\n",
            "  with torch.cuda.amp.autocast(amp):\n",
            "        0/9         0G     0.1165    0.06947          0        173        640:  24% 15/63 [07:54<23:32, 29.44s/it]/content/yolov5/train.py:412: FutureWarning: `torch.cuda.amp.autocast(args...)` is deprecated. Please use `torch.amp.autocast('cuda', args...)` instead.\n",
            "  with torch.cuda.amp.autocast(amp):\n",
            "        0/9         0G     0.1163    0.06847          0        163        640:  25% 16/63 [08:25<23:19, 29.78s/it]/content/yolov5/train.py:412: FutureWarning: `torch.cuda.amp.autocast(args...)` is deprecated. Please use `torch.amp.autocast('cuda', args...)` instead.\n",
            "  with torch.cuda.amp.autocast(amp):\n",
            "        0/9         0G     0.1163    0.06832          0        381        640:  27% 17/63 [08:54<22:49, 29.77s/it]/content/yolov5/train.py:412: FutureWarning: `torch.cuda.amp.autocast(args...)` is deprecated. Please use `torch.amp.autocast('cuda', args...)` instead.\n",
            "  with torch.cuda.amp.autocast(amp):\n",
            "        0/9         0G     0.1161     0.0682          0        243        640:  29% 18/63 [09:24<22:19, 29.77s/it]/content/yolov5/train.py:412: FutureWarning: `torch.cuda.amp.autocast(args...)` is deprecated. Please use `torch.amp.autocast('cuda', args...)` instead.\n",
            "  with torch.cuda.amp.autocast(amp):\n",
            "        0/9         0G     0.1159    0.06872          0        250        640:  30% 19/63 [09:54<21:44, 29.65s/it]/content/yolov5/train.py:412: FutureWarning: `torch.cuda.amp.autocast(args...)` is deprecated. Please use `torch.amp.autocast('cuda', args...)` instead.\n",
            "  with torch.cuda.amp.autocast(amp):\n",
            "        0/9         0G      0.116    0.06958          0        638        640:  32% 20/63 [10:22<21:05, 29.43s/it]/content/yolov5/train.py:412: FutureWarning: `torch.cuda.amp.autocast(args...)` is deprecated. Please use `torch.amp.autocast('cuda', args...)` instead.\n",
            "  with torch.cuda.amp.autocast(amp):\n",
            "        0/9         0G     0.1159    0.06935          0        339        640:  33% 21/63 [10:53<20:47, 29.69s/it]/content/yolov5/train.py:412: FutureWarning: `torch.cuda.amp.autocast(args...)` is deprecated. Please use `torch.amp.autocast('cuda', args...)` instead.\n",
            "  with torch.cuda.amp.autocast(amp):\n",
            "        0/9         0G     0.1157    0.06865          0        130        640:  35% 22/63 [11:22<20:11, 29.56s/it]/content/yolov5/train.py:412: FutureWarning: `torch.cuda.amp.autocast(args...)` is deprecated. Please use `torch.amp.autocast('cuda', args...)` instead.\n",
            "  with torch.cuda.amp.autocast(amp):\n",
            "        0/9         0G     0.1155    0.06954          0        376        640:  37% 23/63 [11:51<19:38, 29.46s/it]/content/yolov5/train.py:412: FutureWarning: `torch.cuda.amp.autocast(args...)` is deprecated. Please use `torch.amp.autocast('cuda', args...)` instead.\n",
            "  with torch.cuda.amp.autocast(amp):\n",
            "        0/9         0G     0.1154    0.06932          0        275        640:  38% 24/63 [12:20<19:01, 29.27s/it]/content/yolov5/train.py:412: FutureWarning: `torch.cuda.amp.autocast(args...)` is deprecated. Please use `torch.amp.autocast('cuda', args...)` instead.\n",
            "  with torch.cuda.amp.autocast(amp):\n",
            "        0/9         0G     0.1154    0.06973          0        360        640:  40% 25/63 [12:50<18:41, 29.52s/it]/content/yolov5/train.py:412: FutureWarning: `torch.cuda.amp.autocast(args...)` is deprecated. Please use `torch.amp.autocast('cuda', args...)` instead.\n",
            "  with torch.cuda.amp.autocast(amp):\n",
            "        0/9         0G     0.1152    0.06914          0        201        640:  41% 26/63 [13:21<18:24, 29.84s/it]/content/yolov5/train.py:412: FutureWarning: `torch.cuda.amp.autocast(args...)` is deprecated. Please use `torch.amp.autocast('cuda', args...)` instead.\n",
            "  with torch.cuda.amp.autocast(amp):\n",
            "        0/9         0G     0.1149    0.06845          0        133        640:  43% 27/63 [13:50<17:49, 29.70s/it]/content/yolov5/train.py:412: FutureWarning: `torch.cuda.amp.autocast(args...)` is deprecated. Please use `torch.amp.autocast('cuda', args...)` instead.\n",
            "  with torch.cuda.amp.autocast(amp):\n",
            "        0/9         0G     0.1149    0.06826          0        262        640:  44% 28/63 [14:19<17:13, 29.53s/it]/content/yolov5/train.py:412: FutureWarning: `torch.cuda.amp.autocast(args...)` is deprecated. Please use `torch.amp.autocast('cuda', args...)` instead.\n",
            "  with torch.cuda.amp.autocast(amp):\n",
            "        0/9         0G     0.1147    0.06773          0        192        640:  46% 29/63 [14:49<16:46, 29.61s/it]/content/yolov5/train.py:412: FutureWarning: `torch.cuda.amp.autocast(args...)` is deprecated. Please use `torch.amp.autocast('cuda', args...)` instead.\n",
            "  with torch.cuda.amp.autocast(amp):\n",
            "        0/9         0G     0.1146    0.06814          0        393        640:  48% 30/63 [15:18<16:13, 29.49s/it]/content/yolov5/train.py:412: FutureWarning: `torch.cuda.amp.autocast(args...)` is deprecated. Please use `torch.amp.autocast('cuda', args...)` instead.\n",
            "  with torch.cuda.amp.autocast(amp):\n",
            "        0/9         0G     0.1144    0.06792          0        165        640:  49% 31/63 [15:49<15:57, 29.91s/it]/content/yolov5/train.py:412: FutureWarning: `torch.cuda.amp.autocast(args...)` is deprecated. Please use `torch.amp.autocast('cuda', args...)` instead.\n",
            "  with torch.cuda.amp.autocast(amp):\n",
            "        0/9         0G     0.1142    0.06771          0        155        640:  51% 32/63 [16:18<15:15, 29.54s/it]/content/yolov5/train.py:412: FutureWarning: `torch.cuda.amp.autocast(args...)` is deprecated. Please use `torch.amp.autocast('cuda', args...)` instead.\n",
            "  with torch.cuda.amp.autocast(amp):\n",
            "        0/9         0G     0.1141    0.06724          0        170        640:  52% 33/63 [16:46<14:34, 29.14s/it]/content/yolov5/train.py:412: FutureWarning: `torch.cuda.amp.autocast(args...)` is deprecated. Please use `torch.amp.autocast('cuda', args...)` instead.\n",
            "  with torch.cuda.amp.autocast(amp):\n",
            "        0/9         0G     0.1139    0.06715          0        230        640:  54% 34/63 [17:24<15:20, 31.74s/it]/content/yolov5/train.py:412: FutureWarning: `torch.cuda.amp.autocast(args...)` is deprecated. Please use `torch.amp.autocast('cuda', args...)` instead.\n",
            "  with torch.cuda.amp.autocast(amp):\n",
            "        0/9         0G     0.1139    0.06685          0        334        640:  56% 35/63 [17:53<14:24, 30.86s/it]/content/yolov5/train.py:412: FutureWarning: `torch.cuda.amp.autocast(args...)` is deprecated. Please use `torch.amp.autocast('cuda', args...)` instead.\n",
            "  with torch.cuda.amp.autocast(amp):\n",
            "        0/9         0G     0.1138    0.06663          0        390        640:  57% 36/63 [18:22<13:37, 30.28s/it]/content/yolov5/train.py:412: FutureWarning: `torch.cuda.amp.autocast(args...)` is deprecated. Please use `torch.amp.autocast('cuda', args...)` instead.\n",
            "  with torch.cuda.amp.autocast(amp):\n",
            "        0/9         0G     0.1136    0.06665          0        154        640:  59% 37/63 [18:51<13:00, 30.02s/it]/content/yolov5/train.py:412: FutureWarning: `torch.cuda.amp.autocast(args...)` is deprecated. Please use `torch.amp.autocast('cuda', args...)` instead.\n",
            "  with torch.cuda.amp.autocast(amp):\n",
            "        0/9         0G     0.1135    0.06689          0        264        640:  60% 38/63 [19:23<12:41, 30.46s/it]/content/yolov5/train.py:412: FutureWarning: `torch.cuda.amp.autocast(args...)` is deprecated. Please use `torch.amp.autocast('cuda', args...)` instead.\n",
            "  with torch.cuda.amp.autocast(amp):\n",
            "        0/9         0G     0.1135    0.06741          0        465        640:  62% 39/63 [19:56<12:36, 31.51s/it]/content/yolov5/train.py:412: FutureWarning: `torch.cuda.amp.autocast(args...)` is deprecated. Please use `torch.amp.autocast('cuda', args...)` instead.\n",
            "  with torch.cuda.amp.autocast(amp):\n",
            "        0/9         0G     0.1133    0.06691          0        113        640:  63% 40/63 [20:27<11:56, 31.14s/it]/content/yolov5/train.py:412: FutureWarning: `torch.cuda.amp.autocast(args...)` is deprecated. Please use `torch.amp.autocast('cuda', args...)` instead.\n",
            "  with torch.cuda.amp.autocast(amp):\n",
            "        0/9         0G     0.1132     0.0667          0        186        640:  65% 41/63 [20:56<11:12, 30.59s/it]/content/yolov5/train.py:412: FutureWarning: `torch.cuda.amp.autocast(args...)` is deprecated. Please use `torch.amp.autocast('cuda', args...)` instead.\n",
            "  with torch.cuda.amp.autocast(amp):\n",
            "        0/9         0G     0.1132    0.06633          0        282        640:  67% 42/63 [21:27<10:47, 30.84s/it]/content/yolov5/train.py:412: FutureWarning: `torch.cuda.amp.autocast(args...)` is deprecated. Please use `torch.amp.autocast('cuda', args...)` instead.\n",
            "  with torch.cuda.amp.autocast(amp):\n",
            "        0/9         0G     0.1131    0.06628          0        195        640:  68% 43/63 [21:56<10:02, 30.13s/it]/content/yolov5/train.py:412: FutureWarning: `torch.cuda.amp.autocast(args...)` is deprecated. Please use `torch.amp.autocast('cuda', args...)` instead.\n",
            "  with torch.cuda.amp.autocast(amp):\n",
            "        0/9         0G     0.1128    0.06599          0        100        640:  70% 44/63 [22:25<09:26, 29.84s/it]/content/yolov5/train.py:412: FutureWarning: `torch.cuda.amp.autocast(args...)` is deprecated. Please use `torch.amp.autocast('cuda', args...)` instead.\n",
            "  with torch.cuda.amp.autocast(amp):\n",
            "        0/9         0G     0.1128    0.06613          0        532        640:  71% 45/63 [22:54<08:51, 29.51s/it]/content/yolov5/train.py:412: FutureWarning: `torch.cuda.amp.autocast(args...)` is deprecated. Please use `torch.amp.autocast('cuda', args...)` instead.\n",
            "  with torch.cuda.amp.autocast(amp):\n",
            "        0/9         0G     0.1128    0.06631          0        666        640:  73% 46/63 [23:24<08:24, 29.68s/it]/content/yolov5/train.py:412: FutureWarning: `torch.cuda.amp.autocast(args...)` is deprecated. Please use `torch.amp.autocast('cuda', args...)` instead.\n",
            "  with torch.cuda.amp.autocast(amp):\n",
            "        0/9         0G     0.1129    0.06662          0        435        640:  75% 47/63 [23:53<07:53, 29.59s/it]/content/yolov5/train.py:412: FutureWarning: `torch.cuda.amp.autocast(args...)` is deprecated. Please use `torch.amp.autocast('cuda', args...)` instead.\n",
            "  with torch.cuda.amp.autocast(amp):\n",
            "        0/9         0G     0.1128    0.06659          0        273        640:  76% 48/63 [24:25<07:33, 30.27s/it]/content/yolov5/train.py:412: FutureWarning: `torch.cuda.amp.autocast(args...)` is deprecated. Please use `torch.amp.autocast('cuda', args...)` instead.\n",
            "  with torch.cuda.amp.autocast(amp):\n",
            "        0/9         0G     0.1128    0.06651          0        491        640:  78% 49/63 [24:55<06:59, 30.00s/it]/content/yolov5/train.py:412: FutureWarning: `torch.cuda.amp.autocast(args...)` is deprecated. Please use `torch.amp.autocast('cuda', args...)` instead.\n",
            "  with torch.cuda.amp.autocast(amp):\n",
            "        0/9         0G     0.1127    0.06659          0        256        640:  79% 50/63 [25:25<06:31, 30.14s/it]/content/yolov5/train.py:412: FutureWarning: `torch.cuda.amp.autocast(args...)` is deprecated. Please use `torch.amp.autocast('cuda', args...)` instead.\n",
            "  with torch.cuda.amp.autocast(amp):\n",
            "        0/9         0G     0.1125    0.06626          0        103        640:  81% 51/63 [25:54<05:57, 29.77s/it]/content/yolov5/train.py:412: FutureWarning: `torch.cuda.amp.autocast(args...)` is deprecated. Please use `torch.amp.autocast('cuda', args...)` instead.\n",
            "  with torch.cuda.amp.autocast(amp):\n",
            "        0/9         0G     0.1125    0.06621          0        379        640:  83% 52/63 [26:25<05:33, 30.31s/it]/content/yolov5/train.py:412: FutureWarning: `torch.cuda.amp.autocast(args...)` is deprecated. Please use `torch.amp.autocast('cuda', args...)` instead.\n",
            "  with torch.cuda.amp.autocast(amp):\n",
            "        0/9         0G     0.1124    0.06627          0        300        640:  84% 53/63 [26:54<04:58, 29.82s/it]/content/yolov5/train.py:412: FutureWarning: `torch.cuda.amp.autocast(args...)` is deprecated. Please use `torch.amp.autocast('cuda', args...)` instead.\n",
            "  with torch.cuda.amp.autocast(amp):\n",
            "        0/9         0G     0.1123    0.06593          0        148        640:  86% 54/63 [27:23<04:27, 29.68s/it]/content/yolov5/train.py:412: FutureWarning: `torch.cuda.amp.autocast(args...)` is deprecated. Please use `torch.amp.autocast('cuda', args...)` instead.\n",
            "  with torch.cuda.amp.autocast(amp):\n",
            "        0/9         0G     0.1123    0.06634          0        382        640:  87% 55/63 [27:53<03:56, 29.62s/it]/content/yolov5/train.py:412: FutureWarning: `torch.cuda.amp.autocast(args...)` is deprecated. Please use `torch.amp.autocast('cuda', args...)` instead.\n",
            "  with torch.cuda.amp.autocast(amp):\n",
            "        0/9         0G     0.1122    0.06646          0        247        640:  89% 56/63 [28:26<03:33, 30.56s/it]/content/yolov5/train.py:412: FutureWarning: `torch.cuda.amp.autocast(args...)` is deprecated. Please use `torch.amp.autocast('cuda', args...)` instead.\n",
            "  with torch.cuda.amp.autocast(amp):\n",
            "        0/9         0G     0.1122    0.06674          0        408        640:  90% 57/63 [28:55<03:00, 30.11s/it]/content/yolov5/train.py:412: FutureWarning: `torch.cuda.amp.autocast(args...)` is deprecated. Please use `torch.amp.autocast('cuda', args...)` instead.\n",
            "  with torch.cuda.amp.autocast(amp):\n",
            "        0/9         0G     0.1122    0.06696          0        406        640:  92% 58/63 [29:26<02:31, 30.30s/it]/content/yolov5/train.py:412: FutureWarning: `torch.cuda.amp.autocast(args...)` is deprecated. Please use `torch.amp.autocast('cuda', args...)` instead.\n",
            "  with torch.cuda.amp.autocast(amp):\n",
            "        0/9         0G     0.1121     0.0669          0        366        640:  94% 59/63 [29:54<01:59, 29.89s/it]/content/yolov5/train.py:412: FutureWarning: `torch.cuda.amp.autocast(args...)` is deprecated. Please use `torch.amp.autocast('cuda', args...)` instead.\n",
            "  with torch.cuda.amp.autocast(amp):\n",
            "        0/9         0G     0.1121    0.06759          0        468        640:  95% 60/63 [30:24<01:29, 29.88s/it]/content/yolov5/train.py:412: FutureWarning: `torch.cuda.amp.autocast(args...)` is deprecated. Please use `torch.amp.autocast('cuda', args...)` instead.\n",
            "  with torch.cuda.amp.autocast(amp):\n",
            "        0/9         0G      0.112    0.06747          0        137        640:  97% 61/63 [30:54<00:59, 29.71s/it]/content/yolov5/train.py:412: FutureWarning: `torch.cuda.amp.autocast(args...)` is deprecated. Please use `torch.amp.autocast('cuda', args...)` instead.\n",
            "  with torch.cuda.amp.autocast(amp):\n",
            "        0/9         0G     0.1119    0.06757          0        255        640:  98% 62/63 [31:23<00:29, 29.54s/it]/content/yolov5/train.py:412: FutureWarning: `torch.cuda.amp.autocast(args...)` is deprecated. Please use `torch.amp.autocast('cuda', args...)` instead.\n",
            "  with torch.cuda.amp.autocast(amp):\n",
            "        0/9         0G     0.1118    0.06753          0         93        640: 100% 63/63 [31:37<00:00, 30.12s/it]\n",
            "                 Class     Images  Instances          P          R      mAP50   mAP50-95:   0% 0/10 [00:00<?, ?it/s]WARNING ⚠️ NMS time limit 2.100s exceeded\n",
            "                 Class     Images  Instances          P          R      mAP50   mAP50-95:  10% 1/10 [00:14<02:14, 14.97s/it]WARNING ⚠️ NMS time limit 2.100s exceeded\n",
            "                 Class     Images  Instances          P          R      mAP50   mAP50-95:  20% 2/10 [00:30<02:02, 15.32s/it]WARNING ⚠️ NMS time limit 2.100s exceeded\n",
            "                 Class     Images  Instances          P          R      mAP50   mAP50-95:  30% 3/10 [00:46<01:48, 15.48s/it]WARNING ⚠️ NMS time limit 2.100s exceeded\n",
            "                 Class     Images  Instances          P          R      mAP50   mAP50-95:  40% 4/10 [01:03<01:37, 16.28s/it]WARNING ⚠️ NMS time limit 2.100s exceeded\n",
            "                 Class     Images  Instances          P          R      mAP50   mAP50-95:  50% 5/10 [01:24<01:28, 17.76s/it]WARNING ⚠️ NMS time limit 2.100s exceeded\n",
            "                 Class     Images  Instances          P          R      mAP50   mAP50-95:  60% 6/10 [01:46<01:16, 19.21s/it]WARNING ⚠️ NMS time limit 2.100s exceeded\n",
            "                 Class     Images  Instances          P          R      mAP50   mAP50-95:  70% 7/10 [02:14<01:06, 22.29s/it]WARNING ⚠️ NMS time limit 2.100s exceeded\n",
            "                 Class     Images  Instances          P          R      mAP50   mAP50-95:  80% 8/10 [02:39<00:46, 23.20s/it]WARNING ⚠️ NMS time limit 2.100s exceeded\n",
            "                 Class     Images  Instances          P          R      mAP50   mAP50-95:  90% 9/10 [03:02<00:22, 22.95s/it]WARNING ⚠️ NMS time limit 1.100s exceeded\n",
            "                 Class     Images  Instances          P          R      mAP50   mAP50-95: 100% 10/10 [03:09<00:00, 18.94s/it]\n",
            "                   all        300       3597    0.00237    0.00751     0.0012   0.000349\n",
            "\n",
            "      Epoch    GPU_mem   box_loss   obj_loss   cls_loss  Instances       Size\n",
            "  0% 0/63 [00:00<?, ?it/s]/content/yolov5/train.py:412: FutureWarning: `torch.cuda.amp.autocast(args...)` is deprecated. Please use `torch.amp.autocast('cuda', args...)` instead.\n",
            "  with torch.cuda.amp.autocast(amp):\n",
            "        1/9         0G     0.1078    0.08532          0        366        640:   2% 1/63 [00:36<37:18, 36.10s/it]/content/yolov5/train.py:412: FutureWarning: `torch.cuda.amp.autocast(args...)` is deprecated. Please use `torch.amp.autocast('cuda', args...)` instead.\n",
            "  with torch.cuda.amp.autocast(amp):\n",
            "        1/9         0G     0.1059    0.07588          0        160        640:   3% 2/63 [01:12<36:42, 36.10s/it]/content/yolov5/train.py:412: FutureWarning: `torch.cuda.amp.autocast(args...)` is deprecated. Please use `torch.amp.autocast('cuda', args...)` instead.\n",
            "  with torch.cuda.amp.autocast(amp):\n",
            "^C\n"
          ]
        }
      ]
    },
    {
      "cell_type": "markdown",
      "source": [
        "**Step 13: Evaluate the Trained YOLO-FaceV2 Model**"
      ],
      "metadata": {
        "id": "a4at_btjBtRL"
      }
    },
    {
      "cell_type": "code",
      "source": [
        "# Run validation to evaluate the trained model on the WIDER FACE validation subset\n",
        "!python val.py --data data/widerface_subset.yaml \\                     # Path to the dataset config\n",
        "--weights runs/train/yolo-fast-subset/weights/best.pt \\               # Path to the best model from training\n",
        "--img 640 \\                                                            # Image size used during training\n",
        "--conf-thres 0.001 \\                                                   # Low confidence threshold to include more predictions\n",
        "--iou-thres 0.6                                                        # IoU threshold for determining true positives\n"
      ],
      "metadata": {
        "colab": {
          "base_uri": "https://localhost:8080/",
          "height": 0
        },
        "id": "U2Elgy7Nk3TK",
        "outputId": "0fb576ee-f7b4-45e7-8ca0-3d6e96e7a439"
      },
      "execution_count": 81,
      "outputs": [
        {
          "output_type": "stream",
          "name": "stdout",
          "text": [
            "\u001b[34m\u001b[1mval: \u001b[0mdata=data/widerface_subset.yaml, weights=['runs/train/yolo-fast-subset/weights/best.pt'], batch_size=32, imgsz=640, conf_thres=0.001, iou_thres=0.6, max_det=300, task=val, device=, workers=8, single_cls=False, augment=False, verbose=False, save_txt=False, save_hybrid=False, save_conf=False, save_json=False, project=runs/val, name=exp, exist_ok=False, half=False, dnn=False\n",
            "YOLOv5 🚀 v7.0-411-gf4d8a84c Python-3.11.12 torch-2.6.0+cu124 CPU\n",
            "\n",
            "Fusing layers... \n",
            "YOLOv5s-face summary: 181 layers, 7246518 parameters, 0 gradients, 16.7 GFLOPs\n",
            "\u001b[34m\u001b[1mval: \u001b[0mScanning /content/WIDER_val_subset/labels/0--Parade.cache... 300 images, 0 backgrounds, 0 corrupt: 100% 300/300 [00:00<?, ?it/s]\n",
            "                 Class     Images  Instances          P          R      mAP50   mAP50-95:   0% 0/10 [00:00<?, ?it/s]WARNING ⚠️ NMS time limit 2.100s exceeded\n",
            "                 Class     Images  Instances          P          R      mAP50   mAP50-95:  10% 1/10 [00:21<03:15, 21.77s/it]WARNING ⚠️ NMS time limit 2.100s exceeded\n",
            "                 Class     Images  Instances          P          R      mAP50   mAP50-95:  20% 2/10 [00:42<02:47, 20.96s/it]WARNING ⚠️ NMS time limit 2.100s exceeded\n",
            "                 Class     Images  Instances          P          R      mAP50   mAP50-95:  30% 3/10 [01:03<02:26, 20.91s/it]WARNING ⚠️ NMS time limit 2.100s exceeded\n",
            "                 Class     Images  Instances          P          R      mAP50   mAP50-95:  40% 4/10 [01:25<02:08, 21.44s/it]WARNING ⚠️ NMS time limit 2.100s exceeded\n",
            "                 Class     Images  Instances          P          R      mAP50   mAP50-95:  50% 5/10 [01:48<01:50, 22.02s/it]WARNING ⚠️ NMS time limit 2.100s exceeded\n",
            "                 Class     Images  Instances          P          R      mAP50   mAP50-95:  60% 6/10 [02:10<01:28, 22.01s/it]WARNING ⚠️ NMS time limit 2.100s exceeded\n",
            "                 Class     Images  Instances          P          R      mAP50   mAP50-95:  70% 7/10 [02:39<01:13, 24.50s/it]WARNING ⚠️ NMS time limit 2.100s exceeded\n",
            "                 Class     Images  Instances          P          R      mAP50   mAP50-95:  80% 8/10 [03:03<00:48, 24.32s/it]WARNING ⚠️ NMS time limit 2.100s exceeded\n",
            "                 Class     Images  Instances          P          R      mAP50   mAP50-95:  90% 9/10 [03:30<00:25, 25.12s/it]WARNING ⚠️ NMS time limit 1.100s exceeded\n",
            "                 Class     Images  Instances          P          R      mAP50   mAP50-95: 100% 10/10 [03:38<00:00, 21.85s/it]\n",
            "                   all        300       3597    0.00185    0.00556   0.000934   0.000266\n",
            "Speed: 6.5ms pre-process, 631.7ms inference, 84.3ms NMS per image at shape (32, 3, 640, 640)\n",
            "Results saved to \u001b[1mruns/val/exp3\u001b[0m\n"
          ]
        }
      ]
    },
    {
      "cell_type": "markdown",
      "source": [
        "**Step 14: Run Inference on a Sample Image from Validation Set**"
      ],
      "metadata": {
        "id": "Z_W7r2wKB44y"
      }
    },
    {
      "cell_type": "code",
      "source": [
        "import torch\n",
        "import glob\n",
        "from IPython.display import Image, display\n",
        "import os\n",
        "\n",
        "# Load the trained YOLO-FaceV2 model\n",
        "model = torch.hub.load(\n",
        "    'ultralytics/yolov5',       # YOLOv5 repo for custom model loading\n",
        "    'custom',                   # Specify custom model\n",
        "    path='runs/train/yolo-fast-subset/weights/best.pt',  # Path to best trained weights\n",
        "    force_reload=True           # Reload the model even if cached\n",
        ")\n",
        "\n",
        "# Pick a sample image from validation set (randomly grabbing the first available one)\n",
        "sample_images = glob.glob(\"/content/WIDER_val_subset/images/*/*.jpg\")\n",
        "img_path = sample_images[0]  # You can change this index to test different images\n",
        "\n",
        "# Run inference using the loaded model\n",
        "results = model(img_path)     # Perform face detection\n",
        "results.print()               # Print detection details (bounding boxes, confidence, etc.)\n",
        "results.save()                # Save annotated result image(s) to disk\n",
        "\n",
        "# Display the detection result\n",
        "latest_exp = sorted(os.listdir(\"runs/detect\"))[-1]  # Get the latest detect run folder\n",
        "detected_img_path = f\"runs/detect/{latest_exp}/{os.path.basename(img_path)}\"\n",
        "display(Image(detected_img_path))  # Show the output image with detected face(s)\n"
      ],
      "metadata": {
        "colab": {
          "base_uri": "https://localhost:8080/",
          "height": 938
        },
        "id": "pYy10V4_k5OG",
        "outputId": "bbfea069-2fc6-4ef9-97ff-ad0309d0628e"
      },
      "execution_count": 83,
      "outputs": [
        {
          "output_type": "stream",
          "name": "stderr",
          "text": [
            "Downloading: \"https://github.com/ultralytics/yolov5/zipball/master\" to /root/.cache/torch/hub/master.zip\n",
            "YOLOv5 🚀 2025-4-13 Python-3.11.12 torch-2.6.0+cu124 CPU\n",
            "\n",
            "Fusing layers... \n",
            "YOLOv5s-face summary: 181 layers, 7246518 parameters, 0 gradients, 16.7 GFLOPs\n",
            "Adding AutoShape... \n",
            "/root/.cache/torch/hub/ultralytics_yolov5_master/models/common.py:906: FutureWarning: `torch.cuda.amp.autocast(args...)` is deprecated. Please use `torch.amp.autocast('cuda', args...)` instead.\n",
            "  with amp.autocast(autocast):\n",
            "image 1/1: 710x1024 (no detections)\n",
            "Speed: 24.3ms pre-process, 365.9ms inference, 1.5ms NMS per image at shape (1, 3, 448, 640)\n",
            "Saved 1 image to \u001b[1mruns/detect/exp\u001b[0m\n"
          ]
        },
        {
          "output_type": "display_data",
          "data": {
            "image/jpeg": "[encoded data removed]",
            "text/plain": [
              "<IPython.core.display.Image object>"
            ]
          },
          "metadata": {}
        }
      ]
    },
    {
      "cell_type": "markdown",
      "source": [
        "**Step 15: Export Trained YOLO-FaceV2 Model for Deployment**"
      ],
      "metadata": {
        "id": "wpVO6-fYCAzI"
      }
    },
    {
      "cell_type": "code",
      "source": [
        "# Export the trained model into TorchScript and ONNX formats for deployment on different platforms\n",
        "!python export.py --weights runs/train/yolo-fast-subset/weights/best.pt \\  # Path to the best model weights\n",
        "--include torchscript onnx                                                 # Export formats: TorchScript and ONNX\n"
      ],
      "metadata": {
        "colab": {
          "base_uri": "https://localhost:8080/",
          "height": 0
        },
        "id": "W7L1zYid_3BF",
        "outputId": "fa37c779-6d8a-48ed-9c2e-d7cc5039f8ab"
      },
      "execution_count": 86,
      "outputs": [
        {
          "output_type": "stream",
          "name": "stdout",
          "text": [
            "\u001b[34m\u001b[1mexport: \u001b[0mdata=data/coco128.yaml, weights=['runs/train/yolo-fast-subset/weights/best.pt'], imgsz=[640, 640], batch_size=1, device=cpu, half=False, inplace=False, keras=False, optimize=False, int8=False, per_tensor=False, dynamic=False, cache=, simplify=False, mlmodel=False, opset=17, verbose=False, workspace=4, nms=False, agnostic_nms=False, topk_per_class=100, topk_all=100, iou_thres=0.45, conf_thres=0.25, include=['torchscript', 'onnx']\n",
            "YOLOv5 🚀 v7.0-411-gf4d8a84c Python-3.11.12 torch-2.6.0+cu124 CPU\n",
            "\n",
            "Fusing layers... \n",
            "YOLOv5s-face summary: 181 layers, 7246518 parameters, 0 gradients, 16.7 GFLOPs\n",
            "\n",
            "\u001b[34m\u001b[1mPyTorch:\u001b[0m starting from runs/train/yolo-fast-subset/weights/best.pt with output shape (1, 25200, 6) (55.9 MB)\n",
            "\n",
            "\u001b[34m\u001b[1mTorchScript:\u001b[0m starting export with torch 2.6.0+cu124...\n",
            "\u001b[34m\u001b[1mTorchScript:\u001b[0m export success ✅ 4.3s, saved as runs/train/yolo-fast-subset/weights/best.torchscript (28.2 MB)\n",
            "\u001b[31m\u001b[1mrequirements:\u001b[0m Ultralytics requirement ['onnx>=1.12.0'] not found, attempting AutoUpdate...\n",
            "Collecting onnx>=1.12.0\n",
            "  Downloading onnx-1.17.0-cp311-cp311-manylinux_2_17_x86_64.manylinux2014_x86_64.whl.metadata (16 kB)\n",
            "Requirement already satisfied: numpy>=1.20 in /usr/local/lib/python3.11/dist-packages (from onnx>=1.12.0) (2.0.2)\n",
            "Requirement already satisfied: protobuf>=3.20.2 in /usr/local/lib/python3.11/dist-packages (from onnx>=1.12.0) (5.29.4)\n",
            "Downloading onnx-1.17.0-cp311-cp311-manylinux_2_17_x86_64.manylinux2014_x86_64.whl (16.0 MB)\n",
            "   ━━━━━━━━━━━━━━━━━━━━━━━━━━━━━━━━━━━━━━━━ 16.0/16.0 MB 109.4 MB/s eta 0:00:00\n",
            "Installing collected packages: onnx\n",
            "Successfully installed onnx-1.17.0\n",
            "\n",
            "\u001b[31m\u001b[1mrequirements:\u001b[0m AutoUpdate success ✅ 8.1s, installed 1 package: ['onnx>=1.12.0']\n",
            "\u001b[31m\u001b[1mrequirements:\u001b[0m ⚠️ \u001b[1mRestart runtime or rerun command for updates to take effect\u001b[0m\n",
            "\n",
            "\n",
            "\u001b[34m\u001b[1mONNX:\u001b[0m starting export with onnx 1.17.0...\n",
            "\u001b[34m\u001b[1mONNX:\u001b[0m export success ✅ 9.6s, saved as runs/train/yolo-fast-subset/weights/best.onnx (28.1 MB)\n",
            "\n",
            "Export complete (15.6s)\n",
            "Results saved to \u001b[1m/content/yolov5/runs/train/yolo-fast-subset/weights\u001b[0m\n",
            "Detect:          python detect.py --weights runs/train/yolo-fast-subset/weights/best.onnx \n",
            "Validate:        python val.py --weights runs/train/yolo-fast-subset/weights/best.onnx \n",
            "PyTorch Hub:     model = torch.hub.load('ultralytics/yolov5', 'custom', 'runs/train/yolo-fast-subset/weights/best.onnx')  \n",
            "Visualize:       https://netron.app\n"
          ]
        }
      ]
    }
  ]
}